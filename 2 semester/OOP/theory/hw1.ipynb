{
 "cells": [
  {
   "cell_type": "code",
   "execution_count": 2,
   "metadata": {},
   "outputs": [],
   "source": [
    "class Person:\n",
    "    def __init__(self):\n",
    "        print('Пустой объект класса ' + self.__class__.__name__ + ' создан.')\n",
    "    \n",
    "    def SetName(self, name):\n",
    "        self._name = name \n",
    "    \n",
    "    def SetSurname(self, surname):\n",
    "        self._surname = surname \n",
    "    \n",
    "    def SetAge(self, age): \n",
    "        self._age = age\n",
    "    \n",
    "    def SetNationality(self, nationality):\n",
    "        self._nationality = nationality\n",
    "    \n",
    "    def SetAddress(self, address): \n",
    "        self._address = address\n",
    "        \n",
    "    def GetName(self):\n",
    "        return self._name\n",
    "    \n",
    "    def GetSurname(self):\n",
    "        return self._surname\n",
    "    \n",
    "    def GetAge(self):\n",
    "        return self._age\n",
    "    \n",
    "    def GetNationality(self):\n",
    "        return self._nationality\n",
    "    \n",
    "    def GetAddress(self):\n",
    "        return self._address"
   ]
  },
  {
   "cell_type": "code",
   "execution_count": 3,
   "metadata": {},
   "outputs": [
    {
     "name": "stdout",
     "output_type": "stream",
     "text": [
      "Пустой объект класса Person создан.\n"
     ]
    }
   ],
   "source": [
    "p = Person()"
   ]
  },
  {
   "cell_type": "code",
   "execution_count": 4,
   "metadata": {},
   "outputs": [],
   "source": [
    "class Worker(Person):\n",
    "    def SetAge(self, age):\n",
    "        self._age = age\n",
    "        if self._age >= 18:\n",
    "            print ('Я - совершеннолетний рабочий.')\n",
    "    \n",
    "    def SetCompanyName(self, companyName):\n",
    "        self._companyName = companyName\n",
    "        \n",
    "    def SetCompanyAddress(self, companyAddress):\n",
    "        self._companyAddress = companyAddress\n",
    "        \n",
    "    def SetWorkPhone(self, workPhone):\n",
    "        self._workPhone = workPhone\n",
    "        \n",
    "    def GetCompanyName(self):\n",
    "        return self._companyName\n",
    "    \n",
    "    def GetCompanyAddress(self):\n",
    "        return self._companyAddress\n",
    "    \n",
    "    def GetWorkPhone(self):\n",
    "        return self._workPhone"
   ]
  },
  {
   "cell_type": "code",
   "execution_count": 13,
   "metadata": {},
   "outputs": [],
   "source": [
    "class Scientist(Worker):\n",
    "    def SetScientificalField(self, scientificalField):\n",
    "        self._scientificalField = scientificalField\n",
    "        \n",
    "    def SetTypeOfScientist(self, typeOfScientist):\n",
    "        self._typeOfScientist = typeOfScientist\n",
    "        \n",
    "    def SetNumberOfPublications(self, numberOfPublications):\n",
    "        raise NotImplementedError\n",
    "        \n",
    "    def GetScientificalField(self):\n",
    "        return self._scientificalField\n",
    "        \n",
    "    def GetTypeOfScientist(self):\n",
    "        return self._typeOfScientist\n",
    "        \n",
    "    def GetNumberOfPublications(self):\n",
    "        raise NotImplementedError"
   ]
  },
  {
   "cell_type": "code",
   "execution_count": 15,
   "metadata": {},
   "outputs": [],
   "source": [
    "class Master(Scientist):\n",
    "    def SetNumberOfPublications(self, numberOfPublications):\n",
    "        self._numberOfPublications = 10 * numberOfPublications \n",
    "        \n",
    "    def GetNumberOfPublications(self):\n",
    "        return self._numberOfPublications\n",
    "\n",
    "class CandidateOfSciences(Scientist):\n",
    "    def SetNumberOfPublications(self, numberOfPublications):\n",
    "        self._numberOfPublications = 20 * numberOfPublications \n",
    "        \n",
    "    def GetNumberOfPublications(self):\n",
    "        return self._numberOfPublications\n",
    "    \n",
    "class DoctorOfSciences(Scientist):\n",
    "    def SetNumberOfPublications(self, numberOfPublications):\n",
    "        self._numberOfPublications = 30 * numberOfPublications \n",
    "        \n",
    "    def GetNumberOfPublications(self):\n",
    "        return self._numberOfPublications"
   ]
  },
  {
   "cell_type": "code",
   "execution_count": 18,
   "metadata": {},
   "outputs": [
    {
     "name": "stdout",
     "output_type": "stream",
     "text": [
      "Пустой объект класса Master создан.\n",
      "Elon\n",
      "Musk\n",
      "Number of publications: 100\n"
     ]
    }
   ],
   "source": [
    "master = Master()\n",
    "master.SetName(\"Elon\")\n",
    "print(master.GetName())\n",
    "master.SetSurname('Musk')\n",
    "print(master.GetSurname())\n",
    "master.SetNumberOfPublications(10)\n",
    "print('Number of publications:', master.GetNumberOfPublications())"
   ]
  },
  {
   "cell_type": "code",
   "execution_count": 22,
   "metadata": {},
   "outputs": [
    {
     "name": "stdout",
     "output_type": "stream",
     "text": [
      "Пустой объект класса CandidateOfSciences создан.\n",
      "Niels\n",
      "Bohr\n",
      "Number of publications: 200\n"
     ]
    }
   ],
   "source": [
    "candidate = CandidateOfSciences()\n",
    "candidate.SetName(\"Niels\")\n",
    "print(candidate.GetName())\n",
    "candidate.SetSurname('Bohr')\n",
    "print(candidate.GetSurname())\n",
    "candidate.SetNumberOfPublications(10)\n",
    "print('Number of publications:', candidate.GetNumberOfPublications())"
   ]
  },
  {
   "cell_type": "code",
   "execution_count": 23,
   "metadata": {},
   "outputs": [
    {
     "name": "stdout",
     "output_type": "stream",
     "text": [
      "Пустой объект класса DoctorOfSciences создан.\n",
      "Isaac\n",
      "Newton\n",
      "Number of publications: 300\n"
     ]
    }
   ],
   "source": [
    "doctor = DoctorOfSciences()\n",
    "doctor.SetName(\"Isaac\")\n",
    "print(doctor.GetName())\n",
    "doctor.SetSurname('Newton')\n",
    "print(doctor.GetSurname())\n",
    "doctor.SetNumberOfPublications(10)\n",
    "print('Number of publications:', doctor.GetNumberOfPublications())"
   ]
  }
 ],
 "metadata": {
  "kernelspec": {
   "display_name": "Python 3",
   "language": "python",
   "name": "python3"
  },
  "language_info": {
   "codemirror_mode": {
    "name": "ipython",
    "version": 3
   },
   "file_extension": ".py",
   "mimetype": "text/x-python",
   "name": "python",
   "nbconvert_exporter": "python",
   "pygments_lexer": "ipython3",
   "version": "3.7.4"
  }
 },
 "nbformat": 4,
 "nbformat_minor": 2
}
