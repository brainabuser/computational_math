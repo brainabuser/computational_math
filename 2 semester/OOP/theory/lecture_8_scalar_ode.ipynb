{
 "cells": [
  {
   "cell_type": "markdown",
   "metadata": {},
   "source": [
    "__Автор__: Карпаев Алексей, ассистент кафедры информатики и вычислительной математики."
   ]
  },
  {
   "cell_type": "markdown",
   "metadata": {},
   "source": [
    "# Метод конечных разностей для численного решения ОДУ: программная реализация, ОО подход"
   ]
  },
  {
   "cell_type": "markdown",
   "metadata": {},
   "source": [
    "## Математическая постановка задачи\n",
    "\n",
    "В данной лекции будем рассматривать __задачу Коши для автономного ОДУ__:\n",
    "\n",
    "$$ \\frac{d u}{d t} = f\\left(u \\right), $$\n",
    "$$ u \\left( 0 \\right) = u_0 $$\n",
    "$$ t > 0 $$\n",
    "В качестве конкретного примера возьмем __логистическое уравнение__ (по-другому __уравнение Ферхюльста__), имеющее правую часть следующего вида:\n",
    "$$\n",
    "f \\left( u; \\alpha, R \\right) = \\alpha \\cdot u \\left( 1 - \\frac{u}{R} \\right)\n",
    "$$\n",
    "\n",
    "Уравнение описывает динамику популяции с учетом влияния факторов окружающей среды (учтенных в параметрах $\\alpha$ и $R$), ограничивающих экспоненциальный рост популяции со временем."
   ]
  },
  {
   "cell_type": "markdown",
   "metadata": {},
   "source": [
    "## Процесс численного решения уравнения\n",
    "Производим дискретизацию расчетной области: вводим равномерную сетку с шагом $\\Delta t = \\frac{T}{N}$ c числом отрезков разбиения $N$. Для нахождения численного решения будем рассматривать следующий набор методов:\n",
    "* Явный метод Эйлера (1-й порядок аппроксимации)\n",
    "* Метод Хойна (2-й порядок аппроксимации)\n",
    "* Метод Рунге-Кутты (4-й порядок аппроксимации).\n",
    "\n",
    "Все методы являются __явными одношаговыми__ и относятся к семейству методов __Рунге-Кутты__."
   ]
  },
  {
   "cell_type": "markdown",
   "metadata": {},
   "source": [
    "## Программная реализация\n",
    "### Процедурный подход"
   ]
  },
  {
   "cell_type": "code",
   "execution_count": 1,
   "metadata": {
    "collapsed": true
   },
   "outputs": [],
   "source": [
    "import numpy as np\n",
    "import matplotlib.pyplot as plt\n",
    "plt.rc('font', size=20)"
   ]
  },
  {
   "cell_type": "code",
   "execution_count": 2,
   "metadata": {
    "collapsed": true
   },
   "outputs": [],
   "source": [
    "class LogisticRightHandSide:\n",
    "        \n",
    "    def __init__(self, alpha, R):\n",
    "        self._alpha = float(alpha)\n",
    "        self._R = float(R)\n",
    "    \n",
    "    \n",
    "    def __call__(self, u):\n",
    "        return self._alpha*u*(1. - u/self._R)"
   ]
  },
  {
   "cell_type": "code",
   "execution_count": 4,
   "metadata": {
    "collapsed": true
   },
   "outputs": [],
   "source": [
    "# будем использовать функцию правой части со следующими значениями параметров\n",
    "rhs1 = LogisticRightHandSide(alpha=0.2, R=100.)"
   ]
  },
  {
   "cell_type": "code",
   "execution_count": 5,
   "metadata": {
    "collapsed": true
   },
   "outputs": [],
   "source": [
    "# параметры сетки и уравнения\n",
    "numBlocks = 30\n",
    "tEnd = 80.\n",
    "dt = float(tEnd)/numBlocks\n",
    "initialValue = 2."
   ]
  },
  {
   "cell_type": "markdown",
   "metadata": {},
   "source": [
    "Реализация функций для численного решения различными методами:"
   ]
  },
  {
   "cell_type": "code",
   "execution_count": 6,
   "metadata": {
    "collapsed": true
   },
   "outputs": [],
   "source": [
    "def SolveViaExplicitEuler(f, tEnd, numBlocks, initialValue):\n",
    "    dt = float(tEnd)/numBlocks\n",
    "    timeArray = np.linspace(0, tEnd, numBlocks + 1)\n",
    "    solutionArray = np.zeros(numBlocks + 1)\n",
    "    \n",
    "    solutionArray[0] = initialValue\n",
    "    \n",
    "    # шаги по времени\n",
    "    for i in range(numBlocks):\n",
    "        solutionArray[i + 1] = solutionArray[i] + dt*f(solutionArray[i])\n",
    "    return timeArray, solutionArray\n",
    "\n",
    "# запуск расчета\n",
    "timeArrayEE, solutionArrayEE = SolveViaExplicitEuler(rhs1, tEnd, numBlocks, initialValue)"
   ]
  },
  {
   "cell_type": "code",
   "execution_count": 7,
   "metadata": {
    "collapsed": true
   },
   "outputs": [],
   "source": [
    "#############################################################################\n",
    "def SolveViaHeun(f, tEnd, numBlocks, initialValue):\n",
    "    dt = float(tEnd)/numBlocks\n",
    "    timeArray = np.linspace(0, tEnd, numBlocks + 1)\n",
    "    solutionArray = np.zeros(numBlocks + 1)\n",
    "    \n",
    "    solutionArray[0] = initialValue\n",
    "    \n",
    "    # шаги по времени\n",
    "    for i in range(numBlocks):\n",
    "        uStar = solutionArray[i] + dt*f(solutionArray[i])\n",
    "        solutionArray[i + 1] = solutionArray[i] + dt/2. \\\n",
    "                            * (f(solutionArray[i]) + f(uStar))\n",
    "    \n",
    "    return timeArray, solutionArray\n",
    "\n",
    "                            \n",
    "# запуск расчета\n",
    "timeArrayH, solutionArrayH = SolveViaHeun(rhs1, tEnd, numBlocks, initialValue)"
   ]
  },
  {
   "cell_type": "code",
   "execution_count": 8,
   "metadata": {
    "collapsed": true
   },
   "outputs": [],
   "source": [
    "###################################################################\n",
    "def SolveViaRK4(f, tEnd, numBlocks, initialValue):\n",
    "    dt = float(tEnd)/numBlocks\n",
    "    timeArray = np.linspace(0, tEnd, numBlocks+1)\n",
    "    solutionArray = np.zeros(numBlocks+1)\n",
    "    \n",
    "    solutionArray[0] = initialValue\n",
    "    \n",
    "    # шаги по времени\n",
    "    for i in range(numBlocks):\n",
    "        k1 = f(solutionArray[i])\n",
    "        k2 = f(solutionArray[i] + dt/2.*k1)\n",
    "        k3 = f(solutionArray[i] + dt/2.*k2)\n",
    "        k4 = f(solutionArray[i] + dt*k3)\n",
    "        \n",
    "        solutionArray[i + 1] = solutionArray[i] + dt/6. * (k1 + 2.*k2 + 2.*k3 + k4)    \n",
    "    \n",
    "    return timeArray, solutionArray\n",
    "\n",
    "# запуск расчета\n",
    "timeArrayRK4, solutionArrayRK4 = SolveViaRK4(rhs1, tEnd, numBlocks, initialValue)"
   ]
  },
  {
   "cell_type": "code",
   "execution_count": 9,
   "metadata": {},
   "outputs": [
    {
     "data": {
      "image/png": "[encoded data removed]",
      "text/plain": [
       "<matplotlib.figure.Figure at 0x10e4d9518>"
      ]
     },
     "metadata": {},
     "output_type": "display_data"
    }
   ],
   "source": [
    "# построение графиков численных решений\n",
    "plt.figure(figsize=(11,7))\n",
    "plt.title('Динамика популяции')\n",
    "\n",
    "plt.plot(timeArrayEE, solutionArrayEE, '-o', label='Явный Эйлер')\n",
    "plt.plot(timeArrayH, solutionArrayH, '-o', label='Хойн')\n",
    "plt.plot(timeArrayRK4, solutionArrayRK4, '-o', label='РК4')\n",
    "\n",
    "plt.legend()\n",
    "plt.xlabel('Время')\n",
    "plt.ylabel('Популяция')\n",
    "plt.grid('off')\n",
    "plt.show()"
   ]
  },
  {
   "cell_type": "markdown",
   "metadata": {},
   "source": [
    "Можно заметить, что у реализации каждого метода имеется много общего:\n",
    "* задание параметров расчетной сетки\n",
    "* задание начального условия\n",
    "* цикл по точкам сетки."
   ]
  },
  {
   "cell_type": "markdown",
   "metadata": {},
   "source": [
    "### Объектно-ориентированный подход"
   ]
  },
  {
   "cell_type": "markdown",
   "metadata": {},
   "source": [
    "Рассмотрим реализацию класса для проведения вычислений с помощью явного метода Эйлера. Класс __ExplicitEuler__:"
   ]
  },
  {
   "cell_type": "markdown",
   "metadata": {},
   "source": [
    "__Поля__:\n",
    "* функция правой части ОДУ\n",
    "* начальное условие\n",
    "* множество точек сетки и ее параметры: кол-во точек, отрезков, шаг сетки\n",
    "* массив для хранения значений численного решения\n",
    "* начальный и конечный моменты времени\n",
    "* ...(по Вашему усмотрению)\n",
    "\n",
    "__Методы__:\n",
    "* конструктор: задать правую часть, начальное условие, параметры сетки\n",
    "* решить ОДУ (\"timestepping\" - цикл по точкам сетки)\n",
    "* построить график численного решения\n",
    "* ...(по Вашему усмотрению)"
   ]
  },
  {
   "cell_type": "code",
   "execution_count": 12,
   "metadata": {
    "collapsed": true
   },
   "outputs": [],
   "source": [
    "import timeit # библиотека для замеров времени\n",
    "\n",
    "class ExplicitEuler_ver1:\n",
    "    \n",
    "    def __init__(self, f, u0, numBlocks, tStart, tEnd):\n",
    "        \n",
    "        self.f = f\n",
    "        self.u0 = u0\n",
    "       \n",
    "        self.numBlocks, self.numPoints = numBlocks, numBlocks + 1\n",
    "        self.dt = (float(tEnd) - float(tStart))/self.numBlocks\n",
    "        \n",
    "        self.solutionArray = np.zeros(self.numPoints)\n",
    "        self.timeArray = np.linspace(tStart, tEnd, self.numPoints)\n",
    "        \n",
    "        self.tStart, self.tEnd = float(tStart), float(tEnd)\n",
    "        \n",
    "        print('Объект класса ' + self.__class__.__name__ + ' создан.')\n",
    "        \n",
    "        \n",
    "    \n",
    "    def Solve(self):\n",
    "        \n",
    "        print('Начало расчета методом %s ...' % self.__class__.__name__)\n",
    "        start = timeit.default_timer()\n",
    "        \n",
    "        # начальное условие\n",
    "        self.solutionArray[0] = self.u0\n",
    "        \n",
    "        # шаги по времени\n",
    "        for i in range(self.numBlocks):\n",
    "            \n",
    "            # для краткости\n",
    "            uOld, dt, f = self.solutionArray[i], self.dt, self.f, \n",
    "                                \n",
    "            # формула явного метода Эйлера \n",
    "            self.solutionArray[i + 1] = uOld + dt*f(uOld)\n",
    "            \n",
    "            # вывод на экран для отслеживания прогресса\n",
    "            if ((i + 1) % (self.numBlocks//10) == 0):\n",
    "                t = self.timeArray[i + 1]\n",
    "                print('%.2f%% вычислений завершено' % (100.*float(t)/(self.tEnd - self.tStart)) )\n",
    "                \n",
    "            \n",
    "            \n",
    "        elapsedTime = float(timeit.default_timer() - start)\n",
    "        print('Время расчета: %.2e сек.' % elapsedTime)\n",
    "    \n",
    "    \n",
    "    def PlotSolution(self):\n",
    "        plt.figure(figsize=(11,7))\n",
    "        plt.plot(self.timeArray, self.solutionArray, '-', linewidth=4)\n",
    "        plt.grid('off')\n",
    "        plt.title('Решение методом %s ' % self.__class__.__name__)\n",
    "        plt.xlabel('Время')\n",
    "        plt.ylabel('Популяция')\n",
    "        plt.show()"
   ]
  },
  {
   "cell_type": "markdown",
   "metadata": {},
   "source": [
    "Функцию рассчета численного решения на неявном слое по времени можно оформить как отдельный метод класса __AdvanceNextStep__:"
   ]
  },
  {
   "cell_type": "code",
   "execution_count": 13,
   "metadata": {
    "collapsed": true
   },
   "outputs": [],
   "source": [
    "class ExplicitEuler_ver2:\n",
    "    \n",
    "    def __init__(self, f, u0, numBlocks, tStart, tEnd): # или задавать шаг dt?\n",
    "        \n",
    "        self.f = f\n",
    "        self.u0 = u0\n",
    "       \n",
    "        self.numBlocks, self.numPoints = numBlocks, numBlocks + 1\n",
    "        self.dt = (float(tEnd) - float(tStart))/float(self.numBlocks)\n",
    "        \n",
    "        self.solutionArray = np.zeros(self.numPoints)\n",
    "        self.timeArray = np.linspace(tStart, tEnd, self.numPoints)\n",
    "        \n",
    "        self.tStart, self.tEnd = float(tStart), float(tEnd)\n",
    "        \n",
    "        \n",
    "        print('Объект класса ' + self.__class__.__name__ + ' создан.')\n",
    "        \n",
    "  \n",
    "    def Solve(self):\n",
    "        \n",
    "        print('Начало расчета методом %s ...' % self.__class__.__name__)\n",
    "        start = timeit.default_timer()\n",
    "        \n",
    "        self.solutionArray[0] = self.u0\n",
    "        \n",
    "        # шаги по времени\n",
    "        for i in range(self.numBlocks):\n",
    "            \n",
    "            # для краткости\n",
    "            uOld, dt, f = self.solutionArray[i], self.dt, self.f\n",
    "                                \n",
    "            # формула явного метода Эйлера \n",
    "            self.solutionArray[i + 1] = self._AdvanceNextStep(i)\n",
    "            \n",
    "            # вывод на экран для отслеживания прогресса\n",
    "            if ((i + 1) % (self.numBlocks//10) == 0):\n",
    "                t = self.timeArray[i + 1]\n",
    "                print('%.2f%% вычислений завершено' % (100.*float(t)/(self.tEnd - self.tStart)) )\n",
    "                \n",
    "            \n",
    "            \n",
    "        elapsedTime = float(timeit.default_timer() - start)\n",
    "        print('Время расчета: %.2e сек.' % elapsedTime)\n",
    "    \n",
    "    ##### единственое отличие от предыдущей версии класса ################\n",
    "    def _AdvanceNextStep(self, i):\n",
    "        # для краткости\n",
    "        uOld, dt, f = self.solutionArray[i], self.dt, self.f,  \n",
    "        \n",
    "        # формула явного метода Эйлера\n",
    "        uNew = uOld + dt*f(uOld)\n",
    "        \n",
    "        return uNew\n",
    "    ##############################################################\n",
    "    \n",
    "    def PlotSolution(self):\n",
    "        plt.figure(figsize=(11,7))\n",
    "        plt.plot(self.timeArray, self.solutionArray, '-o')\n",
    "        plt.grid('off')\n",
    "        plt.title('Решение методом %s ' % self.__class__.__name__)\n",
    "        plt.xlabel('Время')\n",
    "        plt.ylabel('Популяция')\n",
    "        plt.show()"
   ]
  },
  {
   "cell_type": "markdown",
   "metadata": {},
   "source": [
    "Теперь протестируем последнюю версию класса-солвера на логистическом уравнении. Как обычно: одинаковый набор методов различных солверов позволяет запускать их в одном цикле. Говорящие имена методов класса позволяют стороннему пользователю/разработчику разобраться в коде модуля, в котором обычно запускают расчеты:"
   ]
  },
  {
   "cell_type": "code",
   "execution_count": 15,
   "metadata": {},
   "outputs": [
    {
     "name": "stdout",
     "output_type": "stream",
     "text": [
      "Объект класса ExplicitEuler_ver2 создан.\n",
      "Начало расчета методом ExplicitEuler_ver2 ...\n",
      "10.00% вычислений завершено\n",
      "20.00% вычислений завершено\n",
      "30.00% вычислений завершено\n",
      "40.00% вычислений завершено\n",
      "50.00% вычислений завершено\n",
      "60.00% вычислений завершено\n",
      "70.00% вычислений завершено\n",
      "80.00% вычислений завершено\n",
      "90.00% вычислений завершено\n",
      "100.00% вычислений завершено\n",
      "Время расчета: 6.95e-04 сек.\n"
     ]
    },
    {
     "data": {
      "image/png": "[encoded data removed]",
      "text/plain": [
       "<matplotlib.figure.Figure at 0x116998da0>"
      ]
     },
     "metadata": {},
     "output_type": "display_data"
    }
   ],
   "source": [
    "methodsClass = [ExplicitEuler_ver2]\n",
    "\n",
    "# именнно такая реализация в HPL\n",
    "for methodClass in methodsClass:\n",
    "    # вызываем конструктор\n",
    "    method = methodClass(f=rhs1, u0=2., numBlocks=30, tStart=0., tEnd=80.)\n",
    "    \n",
    "    method.Solve()\n",
    "    method.PlotSolution()"
   ]
  },
  {
   "cell_type": "markdown",
   "metadata": {},
   "source": [
    "## Вопросы?"
   ]
  }
 ],
 "metadata": {
  "anaconda-cloud": {},
  "kernelspec": {
   "display_name": "Python 3",
   "language": "python",
   "name": "python3"
  },
  "language_info": {
   "codemirror_mode": {
    "name": "ipython",
    "version": 3
   },
   "file_extension": ".py",
   "mimetype": "text/x-python",
   "name": "python",
   "nbconvert_exporter": "python",
   "pygments_lexer": "ipython3",
   "version": "3.6.3"
  }
 },
 "nbformat": 4,
 "nbformat_minor": 2
}
