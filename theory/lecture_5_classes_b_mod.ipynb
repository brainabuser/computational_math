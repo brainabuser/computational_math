{
 "cells": [
  {
   "cell_type": "markdown",
   "metadata": {},
   "source": [
    "# Числовые функции и численное дифференцирование: программная реализация, ОО подход"
   ]
  },
  {
   "cell_type": "code",
   "execution_count": 1,
   "metadata": {
    "collapsed": true
   },
   "outputs": [],
   "source": [
    "# стандартные imports\n",
    "import math as m\n",
    "import numpy as np\n",
    "import matplotlib.pyplot as plt\n",
    "%matplotlib inline\n",
    "\n",
    "plt.rc('font', size=20)"
   ]
  },
  {
   "cell_type": "markdown",
   "metadata": {},
   "source": [
    "## Отличия вычислительного ООП от классического ООП\n",
    "\n",
    "В прошлой лекции для записи/чтения полей класса мы использовали сеттеры и геттеры. В вычислительном ООП последние используются __только если чтение/запись поля требует выполения дополнительного кода__. А если сеттеры/геттеры отсутствуют --- поля должны быть помечены как public.\n",
    "\n",
    "__Итак__: далее в курсе поля и методы (за редкими исключениями) будут public."
   ]
  },
  {
   "cell_type": "markdown",
   "metadata": {
    "nbpresent": {
     "id": "ca07bdae-6030-40f6-9c99-c07f9a94df11"
    },
    "slideshow": {
     "slide_type": "slide"
    }
   },
   "source": [
    "## Представление функции с параметрами в виде класса\n",
    "Пример с вертикальным движением тела в поле силы тяжести: $y(t) = v_0 t - \\frac{g t^2}{2}$. В качестве параметров возьмем $v_0$ и $g$. Каким образом лучше реализовать данную функцию? \n",
    "\n",
    "__Очевидное решение__: функция нескольких аргументов."
   ]
  },
  {
   "cell_type": "code",
   "execution_count": 2,
   "metadata": {
    "collapsed": true,
    "nbpresent": {
     "id": "b76edc00-42df-4e73-81b0-047b9fd37eee"
    },
    "slideshow": {
     "slide_type": "slide"
    }
   },
   "outputs": [],
   "source": [
    "def YVertical(t, v0, g):\n",
    "    return v0*t - 0.5*g*(t**2)"
   ]
  },
  {
   "cell_type": "markdown",
   "metadata": {
    "nbpresent": {
     "id": "0b14001e-07bd-4734-8566-38b02bb2b1d7"
    }
   },
   "source": [
    "Однако при проведении численного дифференцирования данной функции возникнет проблема, так как функции взятия производной в качестве аргумента требуется функция 1 переменной."
   ]
  },
  {
   "cell_type": "markdown",
   "metadata": {
    "nbpresent": {
     "id": "df67a2db-f658-4568-a9b6-079167695b84"
    }
   },
   "source": [
    "К сожалению, функция Derivative() не сможет работать с нашей YVertical.\n",
    "\n",
    "\n",
    "__Неудачное решение__: использование глобальных переменных."
   ]
  },
  {
   "cell_type": "code",
   "execution_count": 3,
   "metadata": {
    "collapsed": true,
    "nbpresent": {
     "id": "058b9055-3db7-4259-8421-848e4eff8cd4"
    }
   },
   "outputs": [],
   "source": [
    "g = 9.8 \n",
    "x0 = 5. # случайное значение\n",
    "v0 = 5.2 # случайное значение\n",
    "\n",
    "def YVertical1(t):\n",
    "    return v0*t - 0.5*g*(t**2)"
   ]
  },
  {
   "cell_type": "markdown",
   "metadata": {
    "nbpresent": {
     "id": "7ea23b93-18cc-4467-8f09-e9b46fff3c70"
    }
   },
   "source": [
    "Как известно, использование глобальных переменных требуется сводить к минимуму с целью избегания ошибок из-за конфликтов в именах в различных областях видимости.\n",
    "\n",
    "__Другой способ__: Для каждого значения параметра v0 можно написать отдельную функцию (еще неудачней). Написание же n-го количества версий первой для функций с количеством аргументов от 1 до n  представляется не очень оптимальным решением данной задачи. Мы же стремимся к написанию ПО, работающему в самых общих случаях.\n",
    "\n",
    "Как решить проблему? Использовать __классы__. Переменные класса видны всем его методам, поэтому в контексте класса их можно рассматривать в качестве \"глобальных\":"
   ]
  },
  {
   "cell_type": "code",
   "execution_count": 4,
   "metadata": {
    "collapsed": true,
    "nbpresent": {
     "id": "f1619c6b-5372-4fc1-9a05-402a05cc8656"
    }
   },
   "outputs": [],
   "source": [
    "class YVertical:\n",
    "    def __init__(self, v0):\n",
    "        self.g = 9.81\n",
    "        self.v0 = v0\n",
    "        \n",
    "    def Evaluate(self, t):\n",
    "        return self.v0*t - 0.5*self.g*(t**2)"
   ]
  },
  {
   "cell_type": "code",
   "execution_count": 5,
   "metadata": {},
   "outputs": [
    {
     "name": "stdout",
     "output_type": "stream",
     "text": [
      "-96.625\n"
     ]
    }
   ],
   "source": [
    "# использование\n",
    "ball = YVertical(v0)\n",
    "print(ball(x0))"
   ]
  },
  {
   "cell_type": "markdown",
   "metadata": {},
   "source": [
    "Итак, для представления функции n переменных $ f \\left( x; p_1, ..., p_n \\right) $, часть которых можно считать параметрами в контексте использования функции в программе, создаем класс:\n",
    "\n",
    " \n"
   ]
  },
  {
   "cell_type": "code",
   "execution_count": 6,
   "metadata": {},
   "outputs": [
    {
     "ename": "SyntaxError",
     "evalue": "invalid syntax (<ipython-input-6-01f3c5c4beb0>, line 11)",
     "output_type": "error",
     "traceback": [
      "\u001b[0;36m  File \u001b[0;32m\"<ipython-input-6-01f3c5c4beb0>\"\u001b[0;36m, line \u001b[0;32m11\u001b[0m\n\u001b[0;31m    return <smth>\u001b[0m\n\u001b[0m           ^\u001b[0m\n\u001b[0;31mSyntaxError\u001b[0m\u001b[0;31m:\u001b[0m invalid syntax\n"
     ]
    }
   ],
   "source": [
    "# набросок: класс для функции с n-параметрами;\n",
    "# нерабочий код\n",
    "class MyFunction:\n",
    "    \n",
    "    def __init__(self, p1, p2, pn):\n",
    "        self.p1 = p1\n",
    "        self.p2 = p2\n",
    "        self.pn = pn\n",
    "    \n",
    "    def Evaluate(self, x):\n",
    "        return <smth>"
   ]
  },
  {
   "cell_type": "markdown",
   "metadata": {
    "nbpresent": {
     "id": "81fdfaca-d75e-4d3a-9197-e29ae7533f8a"
    }
   },
   "source": [
    "Для большего удобства использования класса в качестве функции, вместо конструкции __object.Evaluate(x)__ хотелось бы использовать более привычную операцию вызова функции __object(x)__. Т.е. нужно перегрузить оператор \"()\". В языке Python перегрузку операторов производят т.н. __магические методы__. Конкретно оператор \"()\" перегружает магический метод --call--:"
   ]
  },
  {
   "cell_type": "code",
   "execution_count": 7,
   "metadata": {
    "nbpresent": {
     "id": "73d03824-19bf-4860-973b-84b448f580a0"
    }
   },
   "outputs": [
    {
     "ename": "SyntaxError",
     "evalue": "invalid syntax (<ipython-input-7-2d73dc76e24e>, line 12)",
     "output_type": "error",
     "traceback": [
      "\u001b[0;36m  File \u001b[0;32m\"<ipython-input-7-2d73dc76e24e>\"\u001b[0;36m, line \u001b[0;32m12\u001b[0m\n\u001b[0;31m    return <smth>      # object(x) - это то же самое, что вызов object.__self(x)__\u001b[0m\n\u001b[0m           ^\u001b[0m\n\u001b[0;31mSyntaxError\u001b[0m\u001b[0;31m:\u001b[0m invalid syntax\n"
     ]
    }
   ],
   "source": [
    "# набросок для функции с n-параметрами;\n",
    "# нерабочий код\n",
    "class MyFunction:\n",
    "    \n",
    "    def __init__(self, p1, p2, pn):\n",
    "        self.p1 = p1\n",
    "        self.p2 = p2\n",
    "        self.pn = pn\n",
    "    \n",
    "\n",
    "    def __call__(self, x): # \"заменяет\" функцию Evaluate(x) \n",
    "        return <smth>      # object(x) - это то же самое, что вызов object.__self(x)__"
   ]
  },
  {
   "cell_type": "markdown",
   "metadata": {},
   "source": [
    "Итак, еще раз:"
   ]
  },
  {
   "cell_type": "code",
   "execution_count": 8,
   "metadata": {
    "collapsed": true
   },
   "outputs": [],
   "source": [
    "# рабочий код\n",
    "class YVertical:\n",
    "    def __init__(self, v0):\n",
    "        self.g = 9.81\n",
    "        self.v0 = v0\n",
    "        \n",
    "    def __call__(self, t):\n",
    "        return self.v0*t - 0.5*self.g*(t**2)"
   ]
  },
  {
   "cell_type": "code",
   "execution_count": 9,
   "metadata": {},
   "outputs": [
    {
     "name": "stdout",
     "output_type": "stream",
     "text": [
      "-96.625\n"
     ]
    }
   ],
   "source": [
    "# использование\n",
    "Y1 = YVertical(v0)\n",
    "print(Y1(x0))"
   ]
  },
  {
   "cell_type": "markdown",
   "metadata": {},
   "source": [
    "Объекты, в которых реализован метод __--call--__(), называются __функторами__."
   ]
  },
  {
   "cell_type": "markdown",
   "metadata": {
    "collapsed": true,
    "nbpresent": {
     "id": "2c860a49-45d7-4d5d-85bd-890752baad14"
    }
   },
   "source": [
    "## Магические методы\n",
    "Их имеется довольно большое количество:\n",
    "\n",
    "* __--init--__(self)\n",
    "Конструктор\n",
    "\n",
    "* __--del--__(self) \n",
    "Деструктор\n",
    "\n",
    "* __--pos--__(self)\n",
    "Определяет поведение для унарного плюса (+some_object)\n",
    "\n",
    "\n",
    "* __--neg--__(self)\n",
    "Определяет поведение для отрицания (-some_object)\n",
    "\n",
    "\n",
    "* __--abs--__(self)\n",
    "Определяет поведение для функции abs()\n",
    "\n",
    "* __--str--__(self)\n",
    "Определяет поведение для функции print()\n",
    "\n",
    "\n",
    "* __--invert--__(self)\n",
    "Определяет поведение для инвертирования оператором ~\n",
    "\n",
    "\n",
    "* __--round--__(self, n)\n",
    "Определяет поведение для встроенной функции round(). n это число знаков после запятой, до которого округлить\n",
    "\n",
    "\n",
    "* __--floor--__(self)\n",
    "Определяет поведение для math.floor(), то есть, округления до ближайшего меньшего целого\n",
    "\n",
    "\n",
    "* __--ceil--__(self)\n",
    "Определяет поведение для math.ceil(), то есть, округления до ближайшего большего целого.\n",
    "\n",
    "........................."
   ]
  },
  {
   "cell_type": "markdown",
   "metadata": {},
   "source": [
    "## Автоматическое дифференцирование функций\n",
    "Рассмотрим различные способы реализации операции дифференцирования. \n",
    "\n",
    "__1-й способ__:"
   ]
  },
  {
   "cell_type": "code",
   "execution_count": 10,
   "metadata": {
    "collapsed": true
   },
   "outputs": [],
   "source": [
    "def DerivativeNum(f, x, h):\n",
    "    return (f(x + h) - f(x - h))/ (2.*h)"
   ]
  },
  {
   "cell_type": "code",
   "execution_count": 11,
   "metadata": {},
   "outputs": [
    {
     "name": "stdout",
     "output_type": "stream",
     "text": [
      "157.079622406\n"
     ]
    }
   ],
   "source": [
    "# использование\n",
    "h0 = 1e-4\n",
    "TestFunction = lambda x: (x**2)*np.sin(2*m.pi*x)\n",
    "print (DerivativeNum(TestFunction, x0, h0))"
   ]
  },
  {
   "cell_type": "markdown",
   "metadata": {},
   "source": [
    "__2-й способ__: функция, возвращающая функцию (т.н. __замыкание__). __Замыкание__ (англ. \"closure\") — функция, в теле которой присутствуют ссылки на переменные, объявленные вне тела этой функции в окружающем коде и не являющиеся её параметрами."
   ]
  },
  {
   "cell_type": "code",
   "execution_count": 12,
   "metadata": {
    "collapsed": true
   },
   "outputs": [],
   "source": [
    "def DerivativeNum(f, h):\n",
    "    \n",
    "    def dfdx(x):\n",
    "        return (f(x + h) - f(x - h))/(2.*h)\n",
    "        \n",
    "    return dfdx # это замыкание помнит значение внешних переменных f и h"
   ]
  },
  {
   "cell_type": "code",
   "execution_count": 13,
   "metadata": {},
   "outputs": [
    {
     "name": "stdout",
     "output_type": "stream",
     "text": [
      "157.079622406\n"
     ]
    }
   ],
   "source": [
    "Derivative1 = DerivativeNum(TestFunction, h0) # теперь Derivative_1 ведет себя как обыкновенная функция\n",
    "print(Derivative1(x0))"
   ]
  },
  {
   "cell_type": "markdown",
   "metadata": {},
   "source": [
    "__3-й способ__: написание отдельного класса, способного вызывать функцию и хранить её состояние в полях."
   ]
  },
  {
   "cell_type": "code",
   "execution_count": 14,
   "metadata": {
    "collapsed": true,
    "nbpresent": {
     "id": "4ec1cfc9-514b-4a55-ab79-15fbc1da6c1e"
    }
   },
   "outputs": [],
   "source": [
    "# класс для представления производной, \n",
    "# вычисляющейся с помощью формулы численного дифференцирования\n",
    "class DerivativeNum:\n",
    "    \n",
    "    def __init__(self, f, h):\n",
    "        self.f = f\n",
    "        self.h = h\n",
    "\n",
    "    def __call__(self, x):\n",
    "        f, h = self.f, self.h # для краткости\n",
    "        return (f(x + h) - f(x - h))/(2.*h)"
   ]
  },
  {
   "cell_type": "code",
   "execution_count": 15,
   "metadata": {},
   "outputs": [
    {
     "name": "stdout",
     "output_type": "stream",
     "text": [
      "157.079622406\n"
     ]
    }
   ],
   "source": [
    "# использование\n",
    "derivative1 = DerivativeNum(TestFunction, h0)\n",
    "\n",
    "print(derivative1(x0)) # теперь derivative1 можно вызывать как функцию"
   ]
  },
  {
   "cell_type": "markdown",
   "metadata": {},
   "source": [
    "__В дальнейшем будем использовать последний способ__. Перейдем к использованию класса: протестируем его на различных функциях.\n",
    "\n",
    "__ НА ЗАМЕТКУ__: напоминаю, что всё в Python является объектом, в том числе и функции. Т.е. ее тоже можно рассматривать как функциональный объект, что позволяет взаимодействовать с ней как с обыкновенной переменной (помещать в списки, к примеру). В языке С для реализации массива из функций пришлось бы использовать указатели на функции, что порождает множество сложностей (громоздкость), если эти функции имеют различное число аргументов и различные возвращаемые значения [ пример объявления указателя: __int (*ptrToFunction)(float, char, char);__ ].\n",
    "\n",
    "Для оценки погрешности численного дифференцирования потребуются аналитические значения производных, которые получим с помощью библиотеки SymPy:"
   ]
  },
  {
   "cell_type": "markdown",
   "metadata": {},
   "source": [
    "### Библиотека символьных вычислений SymPy\n",
    "\n",
    "Позволяет решать часто встречающиеся задачи:\n",
    "\n",
    "* упрощение символьных выражений\n",
    "* символьное дифференцирование\n",
    "* символьное интегрирование\n",
    "* разложение в ряды\n",
    "* символьное решение ОДУ\n",
    "* прочее.\n",
    "\n",
    "__Минусы__: уступает по функционалу коммерческому пакету Wolfram Mathematica\n",
    "\n",
    "__Плюсы__: позволяет решать задачи символьных вычислений внутри той же рабочей среды (программы на Python или Jupyter Notebook), что и \"стандартные\" вычисления."
   ]
  },
  {
   "cell_type": "code",
   "execution_count": 16,
   "metadata": {
    "collapsed": true
   },
   "outputs": [],
   "source": [
    "import sympy as smp\n",
    "xSym = smp.Symbol('x')\n",
    "\n",
    "# код для отображения формул в формате LaTex\n",
    "smp.init_printing(use_latex='mathjax')\n",
    "import IPython.display as ipy"
   ]
  },
  {
   "cell_type": "markdown",
   "metadata": {},
   "source": [
    "Демонстрация работы некоторых функций из SymPy:"
   ]
  },
  {
   "cell_type": "code",
   "execution_count": 20,
   "metadata": {},
   "outputs": [
    {
     "data": {
      "text/latex": [
       "$$x^{2} \\sin{\\left (2 \\pi x \\right )}$$"
      ],
      "text/plain": [
       " 2           \n",
       "x ⋅sin(2⋅π⋅x)"
      ]
     },
     "metadata": {},
     "output_type": "display_data"
    },
    {
     "data": {
      "text/latex": [
       "$$- \\frac{8 \\pi^{7}}{315} x^{9} + \\frac{4 \\pi^{5}}{15} x^{7} - \\frac{4 \\pi^{3}}{3} x^{5} + 2 \\pi x^{3}$$"
      ],
      "text/plain": [
       "     7  9      5  7      3  5         \n",
       "  8⋅π ⋅x    4⋅π ⋅x    4⋅π ⋅x         3\n",
       "- ─────── + ─────── - ─────── + 2⋅π⋅x \n",
       "    315        15        3            "
      ]
     },
     "metadata": {},
     "output_type": "display_data"
    },
    {
     "data": {
      "text/latex": [
       "$$2 \\pi x^{2} \\cos{\\left (2 \\pi x \\right )} + 2 x \\sin{\\left (2 \\pi x \\right )}$$"
      ],
      "text/plain": [
       "     2                            \n",
       "2⋅π⋅x ⋅cos(2⋅π⋅x) + 2⋅x⋅sin(2⋅π⋅x)"
      ]
     },
     "metadata": {},
     "output_type": "display_data"
    },
    {
     "data": {
      "text/latex": [
       "$$- 4 \\pi^{2} x^{2} \\sin{\\left (2 \\pi x \\right )} + 8 \\pi x \\cos{\\left (2 \\pi x \\right )} + 2 \\sin{\\left (2 \\pi x \\right )}$$"
      ],
      "text/plain": [
       "     2  2                                             \n",
       "- 4⋅π ⋅x ⋅sin(2⋅π⋅x) + 8⋅π⋅x⋅cos(2⋅π⋅x) + 2⋅sin(2⋅π⋅x)"
      ]
     },
     "metadata": {},
     "output_type": "display_data"
    }
   ],
   "source": [
    "U = xSym**2 * smp.sin(2 * smp.pi * xSym) # определяем символьную функцию U\n",
    "\n",
    "dUdx = smp.diff(U, xSym) # вторым аргументом указывается переменная дифференцирования\n",
    "d2Udx = smp.diff(dUdx, xSym)\n",
    "d2Udx = smp.simplify(d2Udx)\n",
    "\n",
    "Series1 = U.series(xSym, 0, 10).removeO() # до O(x^10)\n",
    "\n",
    "#print(U)\n",
    "ipy.display(U) # вместо print(), более продвинутый вывод\n",
    "ipy.display(Series1) # вместо print()\n",
    "ipy.display(dUdx) # вместо print()\n",
    "ipy.display(d2Udx) # вместо print()"
   ]
  },
  {
   "cell_type": "markdown",
   "metadata": {},
   "source": [
    "В данной лекции нам потребуется только перевод символьных функций в \"обычные\" функции Python. Этим занимается функция lambdify из библиотеки SymPy:"
   ]
  },
  {
   "cell_type": "code",
   "execution_count": 23,
   "metadata": {},
   "outputs": [
    {
     "name": "stdout",
     "output_type": "stream",
     "text": [
      "-0.958924274663\n"
     ]
    }
   ],
   "source": [
    "# символьные функции требуют явного указания аргумента \n",
    "# (в отличие от \"численных\" из библиотеки math)\n",
    "FuncSym1 = smp.sin(xSym) \n",
    "Func1 = smp.lambdify(xSym, FuncSym1) # \"обычная\" функция\n",
    "\n",
    "# проверка работы\n",
    "print(Func1(x0))"
   ]
  },
  {
   "cell_type": "markdown",
   "metadata": {},
   "source": [
    "Давайте построим графики численных производных для следующих функций:\n",
    "* sin(x)\n",
    "* cos(x)\n",
    "* exp(x)\n",
    "* tan(x).\n",
    "\n",
    "Покомпонентное примение lambdify к списку символьных функций:"
   ]
  },
  {
   "cell_type": "code",
   "execution_count": 24,
   "metadata": {
    "collapsed": true,
    "nbpresent": {
     "id": "0c34f67b-bbda-4056-a4c5-f2c18df783b6"
    }
   },
   "outputs": [],
   "source": [
    "# символьные функции требуют явного указания аргумента (в отличие от \"численных\" из библиотеки math)\n",
    "functionsSym = [smp.sin(xSym), smp.cos(xSym), smp.exp(xSym), smp.tan(xSym)] \n",
    "\n",
    "# генерируем \"обычные\" функции из символьных: этим занимается функция lambdify\n",
    "functions = [smp.lambdify(xSym, f) for f in functionsSym]"
   ]
  },
  {
   "cell_type": "markdown",
   "metadata": {},
   "source": [
    "Используем написанный класс:"
   ]
  },
  {
   "cell_type": "code",
   "execution_count": 26,
   "metadata": {},
   "outputs": [
    {
     "data": {
      "text/latex": [
       "$$\\left [ \\sin{\\left (x \\right )}, \\quad \\cos{\\left (x \\right )}, \\quad e^{x}, \\quad \\tan{\\left (x \\right )}\\right ]$$"
      ],
      "text/plain": [
       "⎡                 x        ⎤\n",
       "⎣sin(x), cos(x), ℯ , tan(x)⎦"
      ]
     },
     "metadata": {},
     "output_type": "display_data"
    },
    {
     "data": {
      "text/plain": [
       "[<function numpy.<lambda>>,\n",
       " <function numpy.<lambda>>,\n",
       " <function numpy.<lambda>>,\n",
       " <function numpy.<lambda>>]"
      ]
     },
     "metadata": {},
     "output_type": "display_data"
    },
    {
     "data": {
      "text/plain": [
       "[<__main__.DerivativeNum at 0x109c82ba8>,\n",
       " <__main__.DerivativeNum at 0x109c829b0>,\n",
       " <__main__.DerivativeNum at 0x10a03fe80>,\n",
       " <__main__.DerivativeNum at 0x10a03f7b8>]"
      ]
     },
     "metadata": {},
     "output_type": "display_data"
    }
   ],
   "source": [
    "derivativesNum = []\n",
    "\n",
    "for f in functions:\n",
    "    derivativesNum.append(DerivativeNum(f, h0))\n",
    "\n",
    "ipy.display(functionsSym, functions, derivativesNum)\n",
    "#print(symbolicFunctions, '\\n\\n', functions)"
   ]
  },
  {
   "cell_type": "markdown",
   "metadata": {},
   "source": [
    "Построение графиков численных производных:"
   ]
  },
  {
   "cell_type": "code",
   "execution_count": 32,
   "metadata": {
    "nbpresent": {
     "id": "5d39e844-5f12-4107-b3d8-4d8d16603ac1"
    }
   },
   "outputs": [
    {
     "data": {
      "image/png": "[encoded data removed]",
      "text/plain": [
       "<matplotlib.figure.Figure at 0x1138b2d30>"
      ]
     },
     "metadata": {},
     "output_type": "display_data"
    },
    {
     "data": {
      "image/png": "[encoded data removed]",
      "text/plain": [
       "<matplotlib.figure.Figure at 0x113d61828>"
      ]
     },
     "metadata": {},
     "output_type": "display_data"
    },
    {
     "data": {
      "image/png": "[encoded data removed]",
      "text/plain": [
       "<matplotlib.figure.Figure at 0x113da2780>"
      ]
     },
     "metadata": {},
     "output_type": "display_data"
    },
    {
     "data": {
      "image/png": "[encoded data removed]",
      "text/plain": [
       "<matplotlib.figure.Figure at 0x113de3668>"
      ]
     },
     "metadata": {},
     "output_type": "display_data"
    }
   ],
   "source": [
    "xLeft, xRight = 0., 10.\n",
    "numPoints = 100\n",
    "xData = np.linspace(xLeft, xRight, numPoints)\n",
    "\n",
    "\n",
    "figureSizeConst = (13, 6.7) # в дюймах\n",
    "#plt.figure(figsize=figureSizeConst) # строим графики производных в общем окне\n",
    "#plt.title('Численные производные')\n",
    "\n",
    "for derivativeNum in derivativesNum:   \n",
    "    yData = derivativeNum(xData) # векторизованная операция над массивом xData\n",
    "    \n",
    "    plt.figure(figsize=figureSizeConst)\n",
    "    plt.title('Численные производные')\n",
    "    # на каждой итерации, построение графика в ОДНОМ окне, созданном plt.figure() выше\n",
    "    plt.plot(xData, yData, 'r-s', linewidth = 4)\n",
    "\n",
    "plt.xlabel('Аргумент')\n",
    "plt.ylabel('Значение')\n",
    "plt.ylim([-2., 4.])\n",
    "plt.show()"
   ]
  },
  {
   "cell_type": "markdown",
   "metadata": {},
   "source": [
    "### Анализ сходимости формул численного дифф."
   ]
  },
  {
   "cell_type": "code",
   "execution_count": 34,
   "metadata": {},
   "outputs": [
    {
     "data": {
      "text/latex": [
       "$$\\left [ \\cos{\\left (x \\right )}, \\quad - \\sin{\\left (x \\right )}, \\quad e^{x}, \\quad \\tan^{2}{\\left (x \\right )} + 1\\right ]$$"
      ],
      "text/plain": [
       "⎡                  x     2       ⎤\n",
       "⎣cos(x), -sin(x), ℯ , tan (x) + 1⎦"
      ]
     },
     "metadata": {},
     "output_type": "display_data"
    },
    {
     "data": {
      "text/plain": [
       "[<function numpy.<lambda>>,\n",
       " <function numpy.<lambda>>,\n",
       " <function numpy.<lambda>>,\n",
       " <function numpy.<lambda>>]"
      ]
     },
     "metadata": {},
     "output_type": "display_data"
    }
   ],
   "source": [
    "derivativesAnalyticalSym = [smp.diff(f, xSym) for f in functionsSym]\n",
    "ipy.display(derivativesAnalyticalSym)\n",
    "\n",
    "# символьное дифференцирование; используем генераторы списков\n",
    "derivativesAnalytical = [smp.lambdify(xSym, f) \\\n",
    "                        for f in derivativesAnalyticalSym]\n",
    "ipy.display(derivativesAnalytical)"
   ]
  },
  {
   "cell_type": "markdown",
   "metadata": {},
   "source": [
    "Построение зависимости погрешностей формул численного дифференцирования от величины шага:"
   ]
  },
  {
   "cell_type": "code",
   "execution_count": 35,
   "metadata": {},
   "outputs": [
    {
     "name": "stdout",
     "output_type": "stream",
     "text": [
      "Шаги:  [0.25, 0.125, 0.0625, 0.03125, 0.015625, 0.0078125, 0.00390625, 0.001953125, 0.0009765625, 0.00048828125, 0.000244140625, 0.0001220703125, 6.103515625e-05]\n"
     ]
    }
   ],
   "source": [
    "steps = [2**(-n) for n in range(2, 15)]\n",
    "print('Шаги: ', steps)"
   ]
  },
  {
   "cell_type": "code",
   "execution_count": 43,
   "metadata": {},
   "outputs": [
    {
     "name": "stdout",
     "output_type": "stream",
     "text": [
      "[0.002945594365654558, 0.00073812671043615996, 0.00018463983583638655, 4.6166721206497563e-05, 1.1542102976158652e-05, 2.8855521684301166e-06, 7.2138969431367883e-07, 1.8034752502504858e-07, 4.5086876121480657e-08, 1.1271749422725463e-08, 2.8179961697460953e-09, 7.0455785650125335e-10, 1.7659618212206851e-10] \n",
      "\n",
      "[0.0099576259554103874, 0.0024952484211413495, 0.0006241777357968159, 0.00015606729382822149, 3.9018252323663738e-05, 9.7546523875058355e-06, 2.4386686717781103e-06, 6.0966751502800065e-07, 1.5241690787259898e-07, 3.8104224109325457e-08, 9.5260815902165064e-09, 2.3815459604392686e-09, 5.9552573983268076e-10] \n",
      "\n",
      "[1.5508087603080583, 0.38679466153078579, 0.096642023921759801, 0.024156967123445838, 0.0060390206213298825, 0.0015097413338764909, 0.00037743446912941181, 9.435856512141072e-05, 2.3589632775156133e-05, 5.8974287924229429e-06, 1.4743159510999249e-06, 3.6854501672678452e-07, 9.229145803146821e-08] \n",
      "\n",
      "[37.368293941293302, 2.8156339052414054, 0.59925891155274336, 0.14444620360813154, 0.035790916489153446, 0.0089279114292448725, 0.0022307426793499729, 0.0005576085246925544, 0.00013939731038270509, 3.4849026084415868e-05, 8.7122379195392341e-06, 2.1780569081641943e-06, 5.4451165532043433e-07] \n",
      "\n"
     ]
    },
    {
     "data": {
      "image/png": "[encoded data removed]",
      "text/plain": [
       "<matplotlib.figure.Figure at 0x112f78cc0>"
      ]
     },
     "metadata": {},
     "output_type": "display_data"
    }
   ],
   "source": [
    "plt.figure(figsize=figureSizeConst)\n",
    "plt.title('Анализ сходимости')\n",
    "\n",
    "\n",
    "for f, dfdx in zip(functions, derivativesAnalytical):\n",
    "        \n",
    "        errors = []\n",
    "        \n",
    "        for h in steps:\n",
    "            dfdxNum = DerivativeNum(f, h)\n",
    "            \n",
    "            error = np.fabs(dfdxNum(x0) - dfdx(x0))\n",
    "            \n",
    "            errors.append(error)\n",
    "        \n",
    "        print(errors, '\\n')\n",
    "        # на каждой итерации, построение графика в ОДНОМ окне, созданном plt.figure() выше\n",
    "        plt.loglog(steps, errors, '-o', linewidth=4, markersize=10)\n",
    "        \n",
    "\n",
    "plt.xlabel('Шаг сетки')\n",
    "plt.ylabel('Погрешность')\n",
    "plt.show()"
   ]
  },
  {
   "cell_type": "markdown",
   "metadata": {},
   "source": [
    "Все графики имеют наклон $\\approx 2$, как и должно быть для формулы численного дифференцирования 2-го порядка точности."
   ]
  },
  {
   "cell_type": "markdown",
   "metadata": {
    "collapsed": true
   },
   "source": [
    "## Вопросы?"
   ]
  }
 ],
 "metadata": {
  "anaconda-cloud": {},
  "kernelspec": {
   "display_name": "Python 3",
   "language": "python",
   "name": "python3"
  },
  "language_info": {
   "codemirror_mode": {
    "name": "ipython",
    "version": 3
   },
   "file_extension": ".py",
   "mimetype": "text/x-python",
   "name": "python",
   "nbconvert_exporter": "python",
   "pygments_lexer": "ipython3",
   "version": "3.6.3"
  },
  "nbpresent": {
   "slides": {
    "06369ab4-ae3b-4734-8ad8-50774d711db3": {
     "id": "06369ab4-ae3b-4734-8ad8-50774d711db3",
     "prev": "230d1ab4-93bd-4ce5-890c-0054d0800139",
     "regions": {
      "33853d23-cfdb-4044-b671-fc2c32236d7c": {
       "attrs": {
        "height": 0.8,
        "width": 0.8,
        "x": 0.1,
        "y": 0.1
       },
       "content": {
        "cell": "81fdfaca-d75e-4d3a-9197-e29ae7533f8a",
        "part": "whole"
       },
       "id": "33853d23-cfdb-4044-b671-fc2c32236d7c"
      }
     }
    },
    "13a386a8-958e-4076-8817-75160c27ecd9": {
     "id": "13a386a8-958e-4076-8817-75160c27ecd9",
     "prev": "c75d12fd-47bc-47d5-b58d-99de0666c5af",
     "regions": {
      "8240c574-0e36-4c51-af34-eb35f46dafda": {
       "attrs": {
        "height": 0.8,
        "width": 0.8,
        "x": 0.1,
        "y": 0.1
       },
       "content": {
        "cell": "2c860a49-45d7-4d5d-85bd-890752baad14",
        "part": "whole"
       },
       "id": "8240c574-0e36-4c51-af34-eb35f46dafda"
      }
     }
    },
    "1d748aec-bf65-4c4c-9ad3-7441c5c313b7": {
     "id": "1d748aec-bf65-4c4c-9ad3-7441c5c313b7",
     "prev": "13a386a8-958e-4076-8817-75160c27ecd9",
     "regions": {
      "5be0b9a1-8d75-4c25-bcdb-8a6901e3d612": {
       "attrs": {
        "height": 0.8,
        "width": 0.8,
        "x": 0.1,
        "y": 0.1
       },
       "content": {
        "cell": "6224f5c3-f435-41d7-a4b4-008221b404b9",
        "part": "whole"
       },
       "id": "5be0b9a1-8d75-4c25-bcdb-8a6901e3d612"
      }
     }
    },
    "230d1ab4-93bd-4ce5-890c-0054d0800139": {
     "id": "230d1ab4-93bd-4ce5-890c-0054d0800139",
     "prev": "b795d86d-d42e-4416-9ab7-e1f6811c2f97",
     "regions": {
      "3d8dc94c-f270-41fb-b2fc-430d5847b0e9": {
       "attrs": {
        "height": 0.8,
        "width": 0.8,
        "x": 0.1,
        "y": 0.1
       },
       "content": {
        "cell": "f1619c6b-5372-4fc1-9a05-402a05cc8656",
        "part": "whole"
       },
       "id": "3d8dc94c-f270-41fb-b2fc-430d5847b0e9"
      }
     }
    },
    "3d27171e-4b95-4b6c-8a72-76a35d24cbf9": {
     "id": "3d27171e-4b95-4b6c-8a72-76a35d24cbf9",
     "prev": "56dc7e8e-cef2-43b6-9063-4c9ec70708e6",
     "regions": {
      "bdcc5047-5b9d-4b74-a3ae-44e15cdc44a9": {
       "attrs": {
        "height": 0.8,
        "width": 0.8,
        "x": 0.1,
        "y": 0.1
       },
       "content": {
        "cell": "5d39e844-5f12-4107-b3d8-4d8d16603ac1",
        "part": "whole"
       },
       "id": "bdcc5047-5b9d-4b74-a3ae-44e15cdc44a9"
      }
     }
    },
    "420d9c2a-4140-4c8d-b87b-49c5a3856a0b": {
     "id": "420d9c2a-4140-4c8d-b87b-49c5a3856a0b",
     "prev": null,
     "regions": {
      "e12c7db3-0fe3-4c44-bb69-22091fe2314b": {
       "attrs": {
        "height": 0.8,
        "width": 0.8,
        "x": 0.1,
        "y": 0.1
       },
       "content": {
        "cell": "ca07bdae-6030-40f6-9c99-c07f9a94df11",
        "part": "whole"
       },
       "id": "e12c7db3-0fe3-4c44-bb69-22091fe2314b"
      }
     }
    },
    "56dc7e8e-cef2-43b6-9063-4c9ec70708e6": {
     "id": "56dc7e8e-cef2-43b6-9063-4c9ec70708e6",
     "prev": "fdee024c-ecff-4acd-853e-eecf7ba8b66d",
     "regions": {
      "9c1ed28a-f97f-49c4-b826-5a9cfbcc6c83": {
       "attrs": {
        "height": 0.8,
        "width": 0.8,
        "x": 0.1,
        "y": 0.1
       },
       "content": {
        "cell": "0c34f67b-bbda-4056-a4c5-f2c18df783b6",
        "part": "whole"
       },
       "id": "9c1ed28a-f97f-49c4-b826-5a9cfbcc6c83"
      }
     }
    },
    "59806d1d-441a-4ed0-b569-a092bd4c1706": {
     "id": "59806d1d-441a-4ed0-b569-a092bd4c1706",
     "prev": "420d9c2a-4140-4c8d-b87b-49c5a3856a0b",
     "regions": {
      "0fb0cbba-96e6-4919-be07-b4e5db45a67d": {
       "attrs": {
        "height": 0.8,
        "width": 0.8,
        "x": 0.1,
        "y": 0.1
       },
       "content": {
        "cell": "b76edc00-42df-4e73-81b0-047b9fd37eee",
        "part": "whole"
       },
       "id": "0fb0cbba-96e6-4919-be07-b4e5db45a67d"
      }
     }
    },
    "90fb7fe0-5d81-47f3-a962-33b715513197": {
     "id": "90fb7fe0-5d81-47f3-a962-33b715513197",
     "prev": "e0c70a8d-b120-45d0-b5c2-b6a0e45ad1df",
     "regions": {
      "dec8fa98-1015-43ad-a9a9-2e7c861245e8": {
       "attrs": {
        "height": 0.8,
        "width": 0.8,
        "x": 0.1,
        "y": 0.1
       },
       "content": {
        "cell": "df67a2db-f658-4568-a9b6-079167695b84",
        "part": "whole"
       },
       "id": "dec8fa98-1015-43ad-a9a9-2e7c861245e8"
      }
     }
    },
    "b795d86d-d42e-4416-9ab7-e1f6811c2f97": {
     "id": "b795d86d-d42e-4416-9ab7-e1f6811c2f97",
     "prev": "c358c3a3-6e42-4656-a954-30010f3f041a",
     "regions": {
      "d5a34d0f-6ada-483e-9e33-a2f27bb5a9c2": {
       "attrs": {
        "height": 0.8,
        "width": 0.8,
        "x": 0.1,
        "y": 0.1
       },
       "content": {
        "cell": "7ea23b93-18cc-4467-8f09-e9b46fff3c70",
        "part": "whole"
       },
       "id": "d5a34d0f-6ada-483e-9e33-a2f27bb5a9c2"
      }
     }
    },
    "c358c3a3-6e42-4656-a954-30010f3f041a": {
     "id": "c358c3a3-6e42-4656-a954-30010f3f041a",
     "prev": "90fb7fe0-5d81-47f3-a962-33b715513197",
     "regions": {
      "284fe2b1-1ca4-4da8-97d8-fd147016ae97": {
       "attrs": {
        "height": 0.8,
        "width": 0.8,
        "x": 0.1,
        "y": 0.1
       },
       "content": {
        "cell": "058b9055-3db7-4259-8421-848e4eff8cd4",
        "part": "whole"
       },
       "id": "284fe2b1-1ca4-4da8-97d8-fd147016ae97"
      }
     }
    },
    "c75d12fd-47bc-47d5-b58d-99de0666c5af": {
     "id": "c75d12fd-47bc-47d5-b58d-99de0666c5af",
     "prev": "06369ab4-ae3b-4734-8ad8-50774d711db3",
     "regions": {
      "e8525ff9-5925-4ca1-8f2a-8bc8ab987fec": {
       "attrs": {
        "height": 0.8,
        "width": 0.8,
        "x": 0.1,
        "y": 0.1
       },
       "content": {
        "cell": "73d03824-19bf-4860-973b-84b448f580a0",
        "part": "whole"
       },
       "id": "e8525ff9-5925-4ca1-8f2a-8bc8ab987fec"
      }
     }
    },
    "e0c70a8d-b120-45d0-b5c2-b6a0e45ad1df": {
     "id": "e0c70a8d-b120-45d0-b5c2-b6a0e45ad1df",
     "prev": "ed36cdae-b45f-4e5f-9004-36f4423697ba",
     "regions": {
      "cd4fe0d5-b97d-4045-ad98-24cef8b241b2": {
       "attrs": {
        "height": 0.8,
        "width": 0.8,
        "x": 0.1,
        "y": 0.1
       },
       "content": {
        "cell": "0f93662a-5438-4155-b4ce-0d499452bfe9",
        "part": "whole"
       },
       "id": "cd4fe0d5-b97d-4045-ad98-24cef8b241b2"
      }
     }
    },
    "ed36cdae-b45f-4e5f-9004-36f4423697ba": {
     "id": "ed36cdae-b45f-4e5f-9004-36f4423697ba",
     "prev": "59806d1d-441a-4ed0-b569-a092bd4c1706",
     "regions": {
      "3b270b75-3f3b-49f6-bcef-5717953d44ac": {
       "attrs": {
        "height": 0.8,
        "width": 0.8,
        "x": 0.1,
        "y": 0.1
       },
       "content": {
        "cell": "0b14001e-07bd-4734-8566-38b02bb2b1d7",
        "part": "whole"
       },
       "id": "3b270b75-3f3b-49f6-bcef-5717953d44ac"
      }
     }
    },
    "fdee024c-ecff-4acd-853e-eecf7ba8b66d": {
     "id": "fdee024c-ecff-4acd-853e-eecf7ba8b66d",
     "prev": "1d748aec-bf65-4c4c-9ad3-7441c5c313b7",
     "regions": {
      "7df91a61-cc2f-438c-ab31-a6d8ca146da1": {
       "attrs": {
        "height": 0.8,
        "width": 0.8,
        "x": 0.1,
        "y": 0.1
       },
       "content": {
        "cell": "4ec1cfc9-514b-4a55-ab79-15fbc1da6c1e",
        "part": "whole"
       },
       "id": "7df91a61-cc2f-438c-ab31-a6d8ca146da1"
      }
     }
    }
   },
   "themes": {}
  }
 },
 "nbformat": 4,
 "nbformat_minor": 1
}
